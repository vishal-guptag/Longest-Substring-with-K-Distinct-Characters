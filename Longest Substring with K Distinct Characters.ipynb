{
 "cells": [
  {
   "cell_type": "code",
   "execution_count": 2,
   "metadata": {},
   "outputs": [
    {
     "name": "stdout",
     "output_type": "stream",
     "text": [
      "length of the longest substring: 4\n"
     ]
    }
   ],
   "source": [
    "#time complexity:O(n)\n",
    "#space complexity:O(k)\n",
    "def longest_substring_with_k_distinct(str,k):\n",
    "    window_start=0\n",
    "    max_length=0\n",
    "    char_frequency={ }\n",
    "    \n",
    "    #in the following loop we will try to extend the range(window_start,window_end)\n",
    "    for window_end in range(len(str)):\n",
    "        right_char=str[window_end]\n",
    "        if right_char not in char_frequency:\n",
    "            char_frequency[right_char]=0\n",
    "        char_frequency[right_char]+=1\n",
    "        \n",
    "        #shrink the sliding window ,until we are left with 'k' distinct characters in the char_frequency\n",
    "        while len(char_frequency)>k:\n",
    "            left_char=str[window_start]\n",
    "            char_frequency[left_char]-=1\n",
    "            if char_frequency[left_char]==0:\n",
    "                del char_frequency[left_char]\n",
    "            window_start +=1#shrink the window\n",
    "        #remember the maximum length so far\n",
    "        max_length=max(max_length,window_end-window_start+1)\n",
    "    return max_length\n",
    "print(\"length of the longest substring: \" + str(longest_substring_with_k_distinct(\"araaci\",2)))"
   ]
  },
  {
   "cell_type": "code",
   "execution_count": null,
   "metadata": {},
   "outputs": [],
   "source": []
  }
 ],
 "metadata": {
  "kernelspec": {
   "display_name": "Python 3",
   "language": "python",
   "name": "python3"
  },
  "language_info": {
   "codemirror_mode": {
    "name": "ipython",
    "version": 3
   },
   "file_extension": ".py",
   "mimetype": "text/x-python",
   "name": "python",
   "nbconvert_exporter": "python",
   "pygments_lexer": "ipython3",
   "version": "3.7.1"
  }
 },
 "nbformat": 4,
 "nbformat_minor": 2
}
